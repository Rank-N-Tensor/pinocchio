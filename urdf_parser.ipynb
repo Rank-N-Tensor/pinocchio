{
 "cells": [
  {
   "cell_type": "code",
   "execution_count": 1,
   "metadata": {},
   "outputs": [
    {
     "name": "stdout",
     "output_type": "stream",
     "text": [
      "model name: 6dof\n"
     ]
    }
   ],
   "source": [
    "import pinocchio\n",
    "from sys import argv\n",
    "from os.path import dirname, join, abspath\n",
    "from numpy.linalg import norm,solve\n",
    "import numpy as np\n",
    "import os\n",
    " \n",
    "\n",
    "urdf_filename = \"/home/adi/hum_rob_ws/src/six_dof/urdf/6dof_from_hip.urdf\"\n",
    "mesh_dir = \"/home/adi/hum_rob_ws/src/six_dof/meshes\"\n",
    "\n",
    "ros_package_path = \"/home/adi/hum_rob_ws/src\"  # Replace with your path\n",
    "os.environ[\"ROS_PACKAGE_PATH\"] = ros_package_path\n",
    "\n",
    "# Load the urdf model\n",
    "model    = pinocchio.buildModelFromUrdf(urdf_filename)\n",
    "print('model name: ' + model.name)\n",
    " \n",
    "# Create data required by the algorithms\n",
    "data     = model.createData()\n",
    "visual_model = pinocchio.buildGeomFromUrdf(\n",
    "    model, urdf_filename, pinocchio.GeometryType.VISUAL, package_dirs=mesh_dir\n",
    ") \n",
    "\n",
    "collision_model = pinocchio.buildGeomFromUrdf(\n",
    "    model, urdf_filename, pinocchio.GeometryType.COLLISION, package_dirs=mesh_dir\n",
    ") "
   ]
  },
  {
   "cell_type": "code",
   "execution_count": 2,
   "metadata": {},
   "outputs": [
    {
     "name": "stdout",
     "output_type": "stream",
     "text": [
      "You can open the visualizer by visiting the following URL:\n",
      "http://127.0.0.1:7000/static/\n"
     ]
    }
   ],
   "source": [
    "\n",
    "visualiser=pinocchio.visualize.MeshcatVisualizer(model,collision_model,visual_model)\n",
    "visualiser.initViewer()\n",
    "visualiser.loadViewerModel()"
   ]
  },
  {
   "cell_type": "code",
   "execution_count": 3,
   "metadata": {},
   "outputs": [],
   "source": [
    "q = pinocchio.neutral(model)\n",
    "visualiser.display(q)"
   ]
  },
  {
   "cell_type": "code",
   "execution_count": 4,
   "metadata": {},
   "outputs": [
    {
     "data": {
      "text/html": [
       "\n",
       "            <div style=\"height: 400px; width: 100%; overflow-x: auto; overflow-y: hidden; resize: both\">\n",
       "            <iframe src=\"http://127.0.0.1:7000/static/\" style=\"width: 100%; height: 100%; border: none\"></iframe>\n",
       "            </div>\n",
       "            "
      ],
      "text/plain": [
       "<IPython.core.display.HTML object>"
      ]
     },
     "execution_count": 4,
     "metadata": {},
     "output_type": "execute_result"
    }
   ],
   "source": [
    "\n",
    "visualiser.viewer.jupyter_cell()"
   ]
  },
  {
   "cell_type": "code",
   "execution_count": 6,
   "metadata": {},
   "outputs": [
    {
     "name": "stdout",
     "output_type": "stream",
     "text": [
      "universe                 :  0.000  0.000  0.000\n",
      "body_left_thigh_lateral  :  0.100  0.000  0.000\n",
      "body_left_thigh          :  0.100  0.000  0.000\n",
      "left_thigh_shin          :  0.142 -0.000 -0.160\n",
      "left_shin_foot           :  0.123 -0.000 -0.290\n",
      "right_body_thigh_lateral :  0.000  0.000  0.000\n",
      "right_body_thigh         :  0.041  0.000  0.000\n",
      "right_thigh_shin         :  0.044 -0.000 -0.160\n",
      "right_shin_foot          :  0.024 -0.000 -0.290\n",
      "  R =\n",
      "   0.999995           0  -0.0031853\n",
      " -0.0031853 0.000796327   -0.999995\n",
      "2.53654e-06           1 0.000796323\n",
      "  p =       0.1225 -0.000234916        -0.29\n",
      "\n"
     ]
    }
   ],
   "source": [
    "pinocchio.forwardKinematics(model,data,q)\n",
    " \n",
    "# Print out the placement of each joint of the kinematic tree\n",
    "for name, oMi in zip(model.names, data.oMi):\n",
    "    print((\"{:<24} : {: .3f} {: .3f} {: .3f}\"\n",
    "          .format( name, *oMi.translation.T.flat )))\n",
    "print(data.oMi[8])"
   ]
  }
 ],
 "metadata": {
  "kernelspec": {
   "display_name": "robotics_course",
   "language": "python",
   "name": "python3"
  },
  "language_info": {
   "codemirror_mode": {
    "name": "ipython",
    "version": 3
   },
   "file_extension": ".py",
   "mimetype": "text/x-python",
   "name": "python",
   "nbconvert_exporter": "python",
   "pygments_lexer": "ipython3",
   "version": "3.9.18"
  }
 },
 "nbformat": 4,
 "nbformat_minor": 2
}
